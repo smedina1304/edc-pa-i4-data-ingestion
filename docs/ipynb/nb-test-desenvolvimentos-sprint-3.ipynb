{
 "cells": [
  {
   "cell_type": "markdown",
   "metadata": {},
   "source": [
    "# SPRINT - 3\n",
    "\n",
    "## Item - ?\n",
    "\n",
    "<br>\n",
    "<br>\n",
    "\n",
    "Autor.: Sérgio C. Medina"
   ]
  },
  {
   "cell_type": "markdown",
   "metadata": {},
   "source": [
    "#### Declaração dos Pacotes, Libs ou Classes utilizadas no processo."
   ]
  },
  {
   "cell_type": "code",
   "execution_count": 1,
   "metadata": {},
   "outputs": [],
   "source": [
    "# Declaração dos Pacotes, Libs ou Classes utilizadas no processo.\n",
    "import os\n",
    "import io\n",
    "import math\n",
    "import pandas as pd\n",
    "import gcsfs\n",
    "import pyarrow\n",
    "import pyarrow.parquet as pq\n",
    "from google.cloud import storage\n",
    "from datetime import datetime, timedelta\n",
    "\n",
    "import sys\n",
    "sys.path.append('../../pods')\n",
    "\n",
    "# configurando variavel de ambiente com o arquivo de credenciais para conexão GCP\n",
    "os.environ['GOOGLE_APPLICATION_CREDENTIALS'] = \"..\\..\\secrets\\edc-igti-smedina-4920e12ac565.json\"\n",
    "#os.environ['GOOGLE_APPLICATION_CREDENTIALS'] = \"/Users/sergiomedina/Downloads/edc-igti-smedina-4920e12ac565.json\"\n",
    "\n",
    "# Funções de integração com o Cloud Storage\n",
    "from utilGCS import utilGCS\n",
    "gcs = utilGCS(bucketName='edc-pa-i4-data')\n",
    "\n",
    "# Funções diversas de manipulação de dados\n",
    "from utilFuncs import utilFuncs\n",
    "func = utilFuncs()\n"
   ]
  },
  {
   "cell_type": "markdown",
   "metadata": {},
   "source": [
    "#### Dados na \"processing-zone\" pasta \"DATAOP\""
   ]
  },
  {
   "cell_type": "code",
   "execution_count": 18,
   "metadata": {},
   "outputs": [],
   "source": [
    "dtexec = \"2021-11-09\"\n",
    "source = \"dataop\"\n",
    "folder = f\"edc-pa-i4-data/processing-zone/{source}\"\n",
    "\n",
    "#df_dataop = gcs.read_parquet_to_pandas(path=f\"edc-pa-i4-data/processing-zone/{source}\")\n",
    "df_dataop = gcs.read_parquet_to_pandas(path=folder, filters=[('DTPROD', '=', dtexec)])\n",
    "\n",
    "\n"
   ]
  },
  {
   "cell_type": "code",
   "execution_count": 20,
   "metadata": {},
   "outputs": [
    {
     "data": {
      "text/plain": [
       "OP                 object\n",
       "DTINI      datetime64[ns]\n",
       "DTFIM      datetime64[ns]\n",
       "CODMAT             object\n",
       "LOTEFAB            object\n",
       "QTDPLAN             int64\n",
       "DTPROD           category\n",
       "dtype: object"
      ]
     },
     "execution_count": 20,
     "metadata": {},
     "output_type": "execute_result"
    }
   ],
   "source": [
    "df_dataop.dtypes"
   ]
  },
  {
   "cell_type": "markdown",
   "metadata": {},
   "source": [
    "#### Dados na \"raw-data-zone\" pasta \"DATACONFIRM\""
   ]
  },
  {
   "cell_type": "code",
   "execution_count": null,
   "metadata": {},
   "outputs": [],
   "source": [
    "dtexec = \"2021-11-08\"\n",
    "source = \"dataconfirm\"\n",
    "folder = f\"raw-data-zone/{source}\"\n",
    "\n",
    "#df_dataconfirm = gcs.read_parquet_to_pandas(path=f\"edc-pa-i4-data/processing-zone/{source}\")\n",
    "df_dataconfirm = gcs.read_parquet_to_pandas(path=folder, filters=[('DTPROD', '=', dtexec)])\n"
   ]
  },
  {
   "cell_type": "code",
   "execution_count": null,
   "metadata": {},
   "outputs": [],
   "source": [
    "df_dataconfirm"
   ]
  },
  {
   "cell_type": "code",
   "execution_count": null,
   "metadata": {},
   "outputs": [],
   "source": [
    "df_dataconfirm.groupby(\n",
    "    ['DTPROD', 'IDTURNO', 'LOTE']\n",
    ").agg(\n",
    "    {\n",
    "        'PACKID': 'count',\n",
    "        'UNIDADES': 'sum',\n",
    "        'KGPACK': 'sum',\n",
    "        'KGUNMED': 'mean'\n",
    "    }\n",
    ")\n",
    "\n",
    "\n",
    "# df = pd.DataFrame(df_dataconfirm.groupby(\n",
    "#     ['DTPROD', 'IDTURNO', 'LOTE']\n",
    "# ).agg(\n",
    "#     {\n",
    "#         'PACKID': 'count',\n",
    "#         'UNIDADES': 'sum',\n",
    "#         'KGPACK': 'sum',\n",
    "#         'KGUNMED': 'mean'\n",
    "#     }\n",
    "# )).reset_index()\n",
    "\n",
    "# df"
   ]
  },
  {
   "cell_type": "markdown",
   "metadata": {},
   "source": [
    "#### Dados na \"raw-data-zone\" pasta \"DATAPROD\""
   ]
  },
  {
   "cell_type": "code",
   "execution_count": null,
   "metadata": {},
   "outputs": [],
   "source": [
    "dtexec = \"2021-11-09\"\n",
    "lineid = \"101\"\n",
    "source = \"dataprod\"\n",
    "folder = f\"raw-data-zone/{source}\"\n",
    "\n",
    "#df_dataprod = gcs.read_parquet_to_pandas(path=f\"edc-pa-i4-data/processing-zone/{source}\")\n",
    "df_dataprod = gcs.read_parquet_to_pandas(path=folder, filters=[('DTPROD', '=', dtexec)])\n"
   ]
  },
  {
   "cell_type": "code",
   "execution_count": null,
   "metadata": {},
   "outputs": [],
   "source": [
    "df_dataprod.dtypes"
   ]
  },
  {
   "cell_type": "code",
   "execution_count": null,
   "metadata": {},
   "outputs": [],
   "source": [
    "#df.groupby(['col1', 'col2']).agg({'col3':'sum','col4':'sum'})\n",
    "df_sts = pd.DataFrame(df_dataprod.groupby(\n",
    "    ['DTPROD', 'IDTURNO', 'LINE', 'OP', 'BATCH', 'STSID', 'STSDS']\n",
    ").agg(\n",
    "    {\n",
    "        'TOTMIN': 'sum',\n",
    "        'PC': 'sum',\n",
    "        'GOOD': 'sum',\n",
    "        'REJECT': 'sum'\n",
    "    }\n",
    ")).reset_index()\n",
    "\n",
    "\n",
    "df = df_dataprod.copy()\n",
    "\n",
    "df['TMIN'] = df['TIMESTAMP']\n",
    "df['TMAX'] = df['TIMESTAMP']\n",
    "df.drop(['TIMESTAMP'], axis=1, inplace=True)\n",
    "\n",
    "df = pd.DataFrame(df.groupby(\n",
    "    ['DTPROD', 'IDTURNO', 'LINE', 'OP', 'BATCH']\n",
    ").agg(\n",
    "    {\n",
    "        'TOTMIN': 'sum',\n",
    "        'PC': 'sum',\n",
    "        'GOOD': 'sum',\n",
    "        'REJECT': 'sum',\n",
    "        'TMIN': 'min',\n",
    "        'TMAX': 'max'\n",
    "    }\n",
    ")).reset_index()\n",
    "\n",
    "\n",
    "df['TMAXLIMIT'] = df.apply(lambda row:func.end_time(row['DTPROD'], row['IDTURNO']),axis=1)\n",
    "df['TMAXLIMIT'] = pd.to_datetime(df['TMAXLIMIT'])\n",
    "df['TMAXDIFF'] = (df['TMAXLIMIT']-df['TMAX']).dt.seconds/60\n",
    "df['WIP'] = df.apply(lambda row:func.round_down(row['TMAXDIFF'], 0),axis=1)\n",
    "\n",
    "df['TMINLIMIT'] = df.apply(lambda row:func.start_time(row['DTPROD'], row['IDTURNO']),axis=1)\n",
    "df['TMINLIMIT'] = pd.to_datetime(df['TMINLIMIT'])\n",
    "df['TMINDIFF'] = (df['TMIN']-df['TMINLIMIT']).dt.seconds/60\n",
    "\n",
    "df['DIFF'] = df['TMAXDIFF'].diff().fillna(0)\n",
    "\n",
    "df['TOTMINADJUSTED'] = round(df['TOTMIN'] + df['DIFF'],0)\n",
    "\n",
    "df.drop(['TMAX', 'TMAXLIMIT', 'TMAXDIFF'], axis=1, inplace=True)\n",
    "df.drop(['TMIN', 'TMINLIMIT', 'TMINDIFF', 'DIFF'], axis=1, inplace=True)\n",
    "\n",
    "# Tot. Tempo turno\n",
    "df['TPTOTAL'] = 480\n",
    "\n",
    "df['TOTMINADJUSTED'] = df.apply(lambda row:(row['TOTMINADJUSTED'] if row['TOTMINADJUSTED']<480 else 480),axis=1)\n",
    "\n",
    "# Tot. Tempo = WORKING\n",
    "df['TPWORKING'] = df.apply(\n",
    "    lambda row:df_sts.where(\n",
    "    (df_sts.STSID==4) &\n",
    "    (df_sts.DTPROD==row['DTPROD']) &\n",
    "    (df_sts.IDTURNO==row['IDTURNO']) &\n",
    "    (df_sts.LINE==row['LINE']) &\n",
    "    (df_sts.OP==row['OP']) &\n",
    "    (df_sts.BATCH==row['BATCH']) \n",
    "    ).agg(\n",
    "        {'TOTMIN':'sum'}\n",
    "    )\n",
    "    ,axis=1)\n",
    "\n",
    "df['TPWORKING'] = df.apply(lambda row:(row['TPWORKING'] if row['TPWORKING']<=row['TOTMINADJUSTED'] else row['TOTMINADJUSTED']),axis=1)\n",
    "\n",
    "# Tot. Tempo = TPSTOPPLAN\n",
    "df['TPSTOPPLAN'] = df.apply(\n",
    "    lambda row:df_sts.where(\n",
    "    (df_sts.STSID==3) &\n",
    "    (df_sts.DTPROD==row['DTPROD']) &\n",
    "    (df_sts.IDTURNO==row['IDTURNO']) &\n",
    "    (df_sts.LINE==row['LINE']) &\n",
    "    (df_sts.OP==row['OP']) &\n",
    "    (df_sts.BATCH==row['BATCH']) \n",
    "    ).agg(\n",
    "        {'TOTMIN':'sum'}\n",
    "    )\n",
    "    ,axis=1)\n",
    "\n",
    "# Tot. Tempo = TPNOALLOC\n",
    "df['TPNOALLOC'] = df.apply(\n",
    "    lambda row:df_sts.where(\n",
    "    (df_sts.STSID==0) &\n",
    "    (df_sts.DTPROD==row['DTPROD']) &\n",
    "    (df_sts.IDTURNO==row['IDTURNO']) &\n",
    "    (df_sts.LINE==row['LINE']) &\n",
    "    (df_sts.OP==row['OP']) &\n",
    "    (df_sts.BATCH==row['BATCH']) \n",
    "    ).agg(\n",
    "        {'TOTMIN':'sum'}\n",
    "    )\n",
    "    ,axis=1)    \n",
    "\n",
    "\n",
    "# Tempo Programado para produzir\n",
    "df['TPPROG'] = df['TPTOTAL'] - (df['TPNOALLOC']+df['TPSTOPPLAN'])\n",
    "\n",
    "\n",
    "# Temp Ociosidade\n",
    "df['TPIDLE'] = df.apply(\n",
    "    lambda row:df_sts.where(\n",
    "    (df_sts.STSID>=1) &\n",
    "    (df_sts.STSID<3) &\n",
    "    (df_sts.DTPROD==row['DTPROD']) &\n",
    "    (df_sts.IDTURNO==row['IDTURNO']) &\n",
    "    (df_sts.LINE==row['LINE']) &\n",
    "    (df_sts.OP==row['OP']) &\n",
    "    (df_sts.BATCH==row['BATCH']) \n",
    "    ).agg(\n",
    "        {'TOTMIN':'sum'}\n",
    "    )\n",
    "    ,axis=1)\n",
    "\n",
    "df['TPIDLE'] = ((df['TPPROG']-(df['TPWORKING'] + df['TPIDLE']))+df['TPIDLE'])\n",
    "\n",
    "# Unidades - Produção Teórica\n",
    "df['PCTHEOR'] = df['TPPROG'] * 1\n",
    "\n",
    "# Unidades - Perda por performance\n",
    "df['PCLOSS'] = df['PCTHEOR'] - df['PC']\n",
    "\n",
    "\n",
    "# OEE Calc\n",
    "# df['OEEDISP'] = df['TPWORKING'] / df['TPPROG']\n",
    "\n",
    "# df['OEEPERF'] = df['PC'] / df['PCTHEOR']\n",
    "\n",
    "# df['OEEQUAL'] = df['GOOD'] / df['PC']\n",
    "\n",
    "# df['OEE'] = df['OEEDISP'] * df['OEEPERF'] * df['OEEQUAL']\n",
    "\n",
    "\n"
   ]
  },
  {
   "cell_type": "code",
   "execution_count": null,
   "metadata": {},
   "outputs": [],
   "source": [
    "df"
   ]
  },
  {
   "cell_type": "code",
   "execution_count": null,
   "metadata": {},
   "outputs": [],
   "source": [
    "df.agg(\n",
    "    {\n",
    "        'OEEDISP': 'prod',\n",
    "        'OEEPERF': 'prod',\n",
    "        'OEEQUAL': 'prod',\n",
    "        'OEE': 'prod'\n",
    "    }\n",
    ")"
   ]
  }
 ],
 "metadata": {
  "interpreter": {
   "hash": "ce51edc64ac3a55d5005f8e1f79b021837e3747492fa12988471d8d227796609"
  },
  "kernelspec": {
   "display_name": "Python 3.9.6 64-bit ('venv': venv)",
   "language": "python",
   "name": "python3"
  },
  "language_info": {
   "codemirror_mode": {
    "name": "ipython",
    "version": 3
   },
   "file_extension": ".py",
   "mimetype": "text/x-python",
   "name": "python",
   "nbconvert_exporter": "python",
   "pygments_lexer": "ipython3",
   "version": "3.9.6"
  },
  "orig_nbformat": 4
 },
 "nbformat": 4,
 "nbformat_minor": 2
}
