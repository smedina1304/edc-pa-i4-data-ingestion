{
 "cells": [
  {
   "cell_type": "markdown",
   "metadata": {},
   "source": [
    "# SPRINT - 1 \n",
    "\n",
    "## Item - Verificar forma e credenciais de acesso ao repositório de cada fonte de dados.\n",
    "\n",
    "## Item - Definição do Mecanismo de Coleta\n",
    "<br>\n",
    "<br>\n",
    "\n",
    "Autor.: Sérgio C. Medina"
   ]
  },
  {
   "cell_type": "markdown",
   "metadata": {},
   "source": [
    "#### Objetivo: Verificar o procedimento de acesso aos dados no Google Drive via PyDrive2"
   ]
  },
  {
   "cell_type": "code",
   "execution_count": 2,
   "metadata": {},
   "outputs": [],
   "source": [
    "# Declaração dos Pacotes, Libs ou Classes utilizadas no processo.\n",
    "import os\n",
    "from pydrive2.auth import GoogleAuth\n",
    "from pydrive2.drive import GoogleDrive"
   ]
  },
  {
   "cell_type": "markdown",
   "metadata": {},
   "source": [
    "#### Configuração da forma de Autenticação via `settings.yaml`. Seguir os procedimentos de preparação e configurações para autenticação documentados na página https://docs.iterative.ai/PyDrive2/quickstart/.\n",
    "<br>\n",
    "\n",
    "Modelo do arquivo abaixo:\n",
    "<br>\n",
    "\n",
    "```yaml\n",
    "client_config_backend: settings\n",
    "client_config:\n",
    "  client_id: [SEU CLIENT_ID]\n",
    "  client_secret: [SEU SECRET ID]\n",
    "\n",
    "save_credentials: True\n",
    "save_credentials_backend: file\n",
    "save_credentials_file: ../../secrets/credentials.json\n",
    "\n",
    "get_refresh_token: True\n",
    "\n",
    "oauth_scope:\n",
    "  - https://www.googleapis.com/auth/drive.appdata\n",
    "  - https://www.googleapis.com/auth/drive.file\n",
    "  - https://www.googleapis.com/auth/drive.install\n",
    "  - https://www.googleapis.com/auth/drive.metadata\n",
    "\n",
    "```"
   ]
  },
  {
   "cell_type": "code",
   "execution_count": 3,
   "metadata": {},
   "outputs": [],
   "source": [
    "# Configuração da Autenticação \n",
    "gauth = GoogleAuth(settings_file='../../secrets/settings-nb.yaml')\n",
    "\n",
    "# Para o primeiro acesso tirar o comentário da linha abaixo para que seja gerado o arquivo de credenciais.\n",
    "# gauth.LocalWebserverAuth()\n",
    "\n",
    "# Confirme as credenciais que serão utilizadas para acesso ao Google Drive, após a criação do arquivo 'credentials.json'\n",
    "# o processo de autenticação será realizado totalmente em background.\n"
   ]
  },
  {
   "cell_type": "code",
   "execution_count": 4,
   "metadata": {},
   "outputs": [],
   "source": [
    "# Cria uma instancia do \"GoogleDrive\" autenticada para acesso ao repositório\n",
    "drive = GoogleDrive(gauth) "
   ]
  },
  {
   "cell_type": "code",
   "execution_count": 4,
   "metadata": {},
   "outputs": [
    {
     "name": "stdout",
     "output_type": "stream",
     "text": [
      "title: DATACONFIRM, id: 1onii4yNGnt6g4bCHZeQP-XYqaTRuglgL\n",
      "title: DATAPROD, id: 1wNqJFzNeU4RH1oCyfXXnseb1MX2sM3wO\n",
      "title: DATAOP, id: 1hLKK6t91XkfJ5aqJiLTDXiswklCLq0_x\n"
     ]
    }
   ],
   "source": [
    "# varredura da pasta raiz apenas informar 'root' na instrução abaixo\n",
    "file_list = drive.ListFile({'q': \"'root' in parents and trashed=false\"}).GetList()\n",
    "for file1 in file_list:\n",
    "  print('title: %s, id: %s' % (file1['title'], file1['id']))"
   ]
  },
  {
   "cell_type": "code",
   "execution_count": 5,
   "metadata": {},
   "outputs": [
    {
     "name": "stdout",
     "output_type": "stream",
     "text": [
      "title: 101-2021-11-13.csv, id: 1TdIcjUIleh8KInFZBt6sf2Gin-o2q6K4\n",
      "title: 101-2021-11-12.csv, id: 1CgoqWJHeCnz39-0Uo38Hk04GzNZDA9ey\n",
      "title: 101-2021-11-08.csv, id: 1Ygba2yNqwPxe5rD7GRoTQ29sITTtldRK\n",
      "title: 101-2021-11-11.csv, id: 1GEPiXvP5dP0mjSg3ze_SbpUs3UiCjFWo\n",
      "title: 101-2021-11-10.csv, id: 1b0gH8Iaagdk7A_N-8icz2Xon4bhQazuU\n",
      "title: 101-2021-11-09.csv, id: 1EsftB3ZH96DaZmDM3iN5oZGaKSbiMyQT\n"
     ]
    }
   ],
   "source": [
    "# varredura da pasta \"DATAPROD\" via ID retornado pelo Google\n",
    "file_list = drive.ListFile({'q': \"'1wNqJFzNeU4RH1oCyfXXnseb1MX2sM3wO' in parents and trashed=false\"}).GetList()\n",
    "for file1 in file_list:\n",
    "  print('title: %s, id: %s' % (file1['title'], file1['id']))"
   ]
  },
  {
   "cell_type": "code",
   "execution_count": 6,
   "metadata": {},
   "outputs": [
    {
     "name": "stdout",
     "output_type": "stream",
     "text": [
      "title: 2021-11-12.csv, id: 1jPEveR_YWK4SGgv00hsi2qIE7N9qsSP-\n",
      "title: 2021-11-11.csv, id: 1VAi1dnJKxoEqC9QXSjDF6d-fbAmFPdUr\n",
      "title: 2021-11-10.csv, id: 1z6vxk4CqymUw7BRsCb_WSrCZZpmensMb\n",
      "title: 2021-11-09.csv, id: 1Es24bhH4M1yt899xbosbrKYwG5nma6oo\n",
      "title: 2021-11-08.csv, id: 1qwfB1XzEBTwtM-IXjC_y76lnROMnJtGO\n"
     ]
    }
   ],
   "source": [
    "# varredura da pasta \"DATAOP\" via ID retornado pelo Google\n",
    "file_list = drive.ListFile({'q': \"'1hLKK6t91XkfJ5aqJiLTDXiswklCLq0_x' in parents and trashed=false\"}).GetList()\n",
    "for file1 in file_list:\n",
    "  print('title: %s, id: %s' % (file1['title'], file1['id']))"
   ]
  },
  {
   "cell_type": "code",
   "execution_count": 7,
   "metadata": {},
   "outputs": [
    {
     "name": "stdout",
     "output_type": "stream",
     "text": [
      "title: 2021-11-13.csv, id: 1OJ9gXK_B8iFrmsE9AueP9idfbf6CU564\n",
      "title: 2021-11-12.csv, id: 1V9hcmNnixlx0xv_qf-NjeRxDTu4aq4sH\n",
      "title: 2021-11-11.csv, id: 1GQqojswVY2quZOxox0-sY77PGAWR-x4s\n",
      "title: 2021-11-10.csv, id: 1k6USb3Ss5sBoYzy19rlNIHQPvaE6hp18\n",
      "title: 2021-11-09.csv, id: 1L4jpT0WrtlXwP4BG_3ElZQpZzin494Z8\n",
      "title: 2021-11-08.csv, id: 15sGDS8YZ0JjOx06mxKA7Jaf0lgTld8am\n"
     ]
    }
   ],
   "source": [
    "# varredura da pasta \"DATACONFIRM\" via ID retornado pelo Google\n",
    "file_list = drive.ListFile({'q': \"'1onii4yNGnt6g4bCHZeQP-XYqaTRuglgL' in parents and trashed=false\"}).GetList()\n",
    "for file1 in file_list:\n",
    "  print('title: %s, id: %s' % (file1['title'], file1['id']))"
   ]
  },
  {
   "cell_type": "markdown",
   "metadata": {},
   "source": [
    "#### Objetivo: Definir e testa o download de dados via PyDrive2"
   ]
  },
  {
   "cell_type": "code",
   "execution_count": 5,
   "metadata": {},
   "outputs": [
    {
     "name": "stdout",
     "output_type": "stream",
     "text": [
      "OP;DTINI;DTFIM;CODMAT;LOTEFAB;QTDPLAN\n",
      "211108L101;2021-11-08 06:00:00;2021-11-09 05:59:59;TB70PVC;TB70394;1320\n",
      ";;;;;\n",
      ";;;;;\n",
      ";;;;;\n",
      ";;;;;\n",
      "\n"
     ]
    }
   ],
   "source": [
    "# Verificação de coleta da Pasta “DATAOP”, Arquivo “2021-11-08.csv” com ID “1qwfB1XzEBTwtM-IXjC_y76lnROMnJtGO”\n",
    "\n",
    "# Definição do ID do arquivo e criação da chave de referência ao arquivo\n",
    "file_id = '1qwfB1XzEBTwtM-IXjC_y76lnROMnJtGO'\n",
    "file = drive.CreateFile({'id': file_id})\n",
    "\n",
    "# Download do conteúdo do arquivo em formato String\n",
    "print(file.GetContentString())\n",
    "\n",
    "\n",
    "#file.GetContentFile('teste.cvs')"
   ]
  },
  {
   "cell_type": "code",
   "execution_count": 9,
   "metadata": {},
   "outputs": [
    {
     "name": "stdout",
     "output_type": "stream",
     "text": [
      "TIMESTAMP;LINE;OP;BATCH;TIMER;TOTMIN;STSID;STSDS;PC;GOOD;REJECT\n",
      "2021-11-09 00:00:00;101;211108L101;TB70394;00:00:00;0;4;WORKING;0;0;0\n",
      "2021-11-09 00:01:15;101;211108L101;TB70394;00:01:15;1,25;4;WORKING;1;1;0\n",
      "2021-11-09 00:14:30;101;211108L101;TB70394;00:13:15;13,25;4;WORKING;13;13;0\n",
      "2021-11-09 00:24:01;101;211108L101;TB70394;00:09:31;9,52;4;WORKING;10;10;0\n",
      "2021-11-09 00:26:52;101;211108L101;TB70394;00:02:51;2,85;4;WORKING;3;3;0\n",
      "2021-11-09 00:37:49;101;211108L101;TB70394;00:10:57;10,95;4;WORKING;11;11;0\n",
      "2021-11-09 00:47:00;101;211108L101;TB70394;00:09:11;9,18;4;WORKING;9;9;0\n",
      "2021-11-09 01:00:05;101;211108L101;TB70394;00:13:05;13,08;4;WORKING;13;13;0\n",
      "2021-11-09 01:14:08;101;211108L101;TB70394;00:14:03;14,05;4;WORKING;14;14;0\n",
      "2021-11-09 01:22:29;101;211108L101;TB70394;00:08:21;8,35;4;WORKING;8;8;0\n",
      "2021-11-09 01:33:17;101;211108L101;TB70394;00:10:48;10,8;4;WORKING;11;11;0\n",
      "2021-11-09 01:34:53;101;211108L101;TB70394;00:01:36;1,6;4;WORKING;2;2;0\n",
      "2021-11-09 01:35:34;101;211108L101;TB70394;00:00:41;0,68;4;WORKING;1;1;0\n",
      "2021-11-09 01:39:01;101;211108L101;TB70394;00:03:27;3,45;4;WORKING;3;3;0\n",
      "2021-11-09 01:41:11;101;211108L101;TB70394;00:02:10;2,17;4;WORKING;2;2;0\n",
      "2021-11-09 01:53:46;101;211108L101;TB70394;00:12:35;12,58;4;WORKING;13;13;0\n",
      "2021-11-09 01:55:27;101;211108L101;TB70394;00:01:41;1,68;4;WORKING;2;2;0\n",
      "2021-11-09 02:01:18;101;211108L101;TB70394;00:05:51;5,85;4;WORKING;6;6;0\n",
      "2021-11-09 02:02:12;101;211108L101;TB70394;00:00:54;0,9;4;WORKING;1;1;0\n",
      "2021-11-09 02:14:58;101;211108L101;TB70394;00:12:46;12,77;4;WORKING;13;13;0\n",
      "2021-11-09 02:23:59;101;211108L101;TB70394;00:09:01;9,02;4;WORKING;9;9;0\n",
      "2021-11-09 02:24:31;101;211108L101;TB70394;00:00:32;0,53;4;WORKING;1;1;0\n",
      "2021-11-09 02:31:44;101;211108L101;TB70394;00:07:13;7,22;4;WORKING;7;6;1\n",
      "2021-11-09 02:38:10;101;211108L101;TB70394;00:06:26;6,43;4;WORKING;6;6;0\n",
      "2021-11-09 02:48:16;101;211108L101;TB70394;00:10:06;10,1;4;WORKING;10;10;0\n",
      "2021-11-09 02:55:47;101;211108L101;TB70394;00:07:31;7,52;4;WORKING;8;8;0\n",
      "2021-11-09 03:03:31;101;211108L101;TB70394;00:07:44;7,73;4;WORKING;8;8;0\n",
      "2021-11-09 03:06:28;101;211108L101;TB70394;00:02:57;2,95;4;WORKING;3;3;0\n",
      "2021-11-09 03:08:11;101;211108L101;TB70394;00:01:43;1,72;4;WORKING;2;2;0\n",
      "2021-11-09 03:09:26;101;211108L101;TB70394;00:01:15;1,25;4;WORKING;1;1;0\n",
      "2021-11-09 03:14:49;101;211108L101;TB70394;00:05:23;5,38;4;WORKING;5;5;0\n",
      "2021-11-09 03:21:56;101;211108L101;TB70394;00:07:07;7,12;4;WORKING;7;7;0\n",
      "2021-11-09 03:31:00;101;211108L101;TB70394;00:09:04;9,07;4;WORKING;9;9;0\n",
      "2021-11-09 03:32:17;101;211108L101;TB70394;00:01:17;1,28;4;WORKING;1;1;0\n",
      "2021-11-09 03:44:38;101;211108L101;TB70394;00:12:21;12,35;4;WORKING;12;12;0\n",
      "2021-11-09 03:58:38;101;211108L101;TB70394;00:14:00;14;4;WORKING;14;14;0\n",
      "2021-11-09 04:13:01;101;211108L101;TB70394;00:14:23;14,38;4;WORKING;14;14;0\n",
      "2021-11-09 04:25:08;101;211108L101;TB70394;00:12:07;12,12;4;WORKING;12;12;0\n",
      "2021-11-09 04:27:49;101;211108L101;TB70394;00:02:41;2,68;4;WORKING;3;3;0\n",
      "2021-11-09 04:32:40;101;211108L101;TB70394;00:04:51;4,85;4;WORKING;5;5;0\n",
      "2021-11-09 04:32:52;101;211108L101;TB70394;00:00:12;0,2;4;WORKING;0;0;0\n",
      "2021-11-09 04:35:33;101;211108L101;TB70394;00:02:41;2,68;4;WORKING;3;3;0\n",
      "2021-11-09 04:42:04;101;211108L101;TB70394;00:06:31;6,52;4;WORKING;7;7;0\n",
      "2021-11-09 04:54:23;101;211108L101;TB70394;00:12:19;12,32;4;WORKING;12;12;0\n",
      "2021-11-09 05:03:54;101;211108L101;TB70394;00:09:31;9,52;4;WORKING;10;10;0\n",
      "2021-11-09 05:11:49;101;211108L101;TB70394;00:07:55;7,92;4;WORKING;8;8;0\n",
      "2021-11-09 05:16:28;101;211108L101;TB70394;00:04:39;4,65;4;WORKING;5;4;1\n",
      "2021-11-09 05:16:39;101;211108L101;TB70394;00:00:11;0,18;4;WORKING;0;0;0\n",
      "2021-11-09 05:30:53;101;211108L101;TB70394;00:14:14;14,23;4;WORKING;14;14;0\n",
      "2021-11-09 05:39:13;101;211108L101;TB70394;00:08:20;8,33;4;WORKING;8;7;1\n",
      "2021-11-09 05:44:24;101;211108L101;TB70394;00:05:11;5,18;4;WORKING;5;5;0\n",
      "2021-11-09 05:51:32;101;211108L101;TB70394;00:07:08;7,13;4;WORKING;7;7;0\n",
      "2021-11-09 05:59:48;101;211108L101;TB70394;00:08:16;8,27;4;WORKING;8;8;0\n",
      "2021-11-09 06:02:58;101;211109L101;TB70395;00:03:10;3,17;1;SETUP;3;0;3\n",
      "2021-11-09 06:18:26;101;211109L101;TB70395;00:15:28;15,47;2;STARTUP;15;0;15\n",
      "2021-11-09 06:26:45;101;211109L101;TB70395;00:08:19;8,32;4;WORKING;8;8;0\n",
      "2021-11-09 06:28:47;101;211109L101;TB70395;00:02:02;2,03;4;WORKING;2;2;0\n",
      "2021-11-09 06:42:11;101;211109L101;TB70395;00:13:24;13,4;4;WORKING;13;13;0\n",
      "2021-11-09 06:47:18;101;211109L101;TB70395;00:05:07;5,12;4;WORKING;5;5;0\n",
      "2021-11-09 06:58:34;101;211109L101;TB70395;00:11:16;11,27;4;WORKING;11;11;0\n",
      "2021-11-09 07:10:28;101;211109L101;TB70395;00:11:54;11,9;4;WORKING;12;12;0\n",
      "2021-11-09 07:20:29;101;211109L101;TB70395;00:10:01;10,02;4;WORKING;10;10;0\n",
      "2021-11-09 07:24:25;101;211109L101;TB70395;00:03:56;3,93;4;WORKING;4;4;0\n",
      "2021-11-09 07:32:54;101;211109L101;TB70395;00:08:29;8,48;4;WORKING;8;8;0\n",
      "2021-11-09 07:39:05;101;211109L101;TB70395;00:06:11;6,18;4;WORKING;6;6;0\n",
      "2021-11-09 07:53:16;101;211109L101;TB70395;00:14:11;14,18;4;WORKING;14;14;0\n",
      "2021-11-09 07:58:57;101;211109L101;TB70395;00:05:41;5,68;4;WORKING;6;6;0\n",
      "2021-11-09 08:05:31;101;211109L101;TB70395;00:06:34;6,57;4;WORKING;7;7;0\n",
      "2021-11-09 08:15:23;101;211109L101;TB70395;00:09:52;9,87;4;WORKING;10;10;0\n",
      "2021-11-09 08:28:04;101;211109L101;TB70395;00:12:41;12,68;4;WORKING;13;13;0\n",
      "2021-11-09 08:37:37;101;211109L101;TB70395;00:09:33;9,55;4;WORKING;10;10;0\n",
      "2021-11-09 08:47:11;101;211109L101;TB70395;00:09:34;9,57;4;WORKING;10;10;0\n",
      "2021-11-09 08:54:59;101;211109L101;TB70395;00:07:48;7,8;4;WORKING;8;8;0\n",
      "2021-11-09 09:06:19;101;211109L101;TB70395;00:11:20;11,33;4;WORKING;11;11;0\n",
      "2021-11-09 09:08:03;101;211109L101;TB70395;00:01:44;1,73;4;WORKING;2;2;0\n",
      "2021-11-09 09:18:25;101;211109L101;TB70395;00:10:22;10,37;5;UNPLANNED STOP;0;0;0\n",
      "2021-11-09 09:25:18;101;211109L101;TB70395;00:06:53;6,88;5;UNPLANNED STOP;0;0;0\n",
      "2021-11-09 09:35:53;101;211109L101;TB70395;00:10:35;10,58;5;UNPLANNED STOP;0;0;0\n",
      "2021-11-09 09:44:32;101;211109L101;TB70395;00:08:39;8,65;5;UNPLANNED STOP;0;0;0\n",
      "2021-11-09 09:55:56;101;211109L101;TB70395;00:11:24;11,4;5;UNPLANNED STOP;0;0;0\n",
      "2021-11-09 09:58:18;101;211109L101;TB70395;00:02:22;2,37;5;UNPLANNED STOP;0;0;0\n",
      "2021-11-09 10:06:41;101;211109L101;TB70395;00:08:23;8,38;5;UNPLANNED STOP;0;0;0\n",
      "2021-11-09 10:11:47;101;211109L101;TB70395;00:05:06;5,1;5;UNPLANNED STOP;0;0;0\n",
      "2021-11-09 10:25:09;101;211109L101;TB70395;00:13:22;13,37;5;UNPLANNED STOP;0;0;0\n",
      "2021-11-09 10:34:21;101;211109L101;TB70395;00:09:12;9,2;5;UNPLANNED STOP;0;0;0\n",
      "2021-11-09 10:46:30;101;211109L101;TB70395;00:12:09;12,15;5;UNPLANNED STOP;0;0;0\n",
      "2021-11-09 10:47:06;101;211109L101;TB70395;00:00:36;0,6;2;STARTUP;1;0;1\n",
      "2021-11-09 10:50:11;101;211109L101;TB70395;00:03:05;3,08;2;STARTUP;3;0;3\n",
      "2021-11-09 10:50:28;101;211109L101;TB70395;00:00:17;0,28;2;STARTUP;0;0;0\n",
      "2021-11-09 10:52:48;101;211109L101;TB70395;00:02:20;2,33;2;STARTUP;2;0;2\n",
      "2021-11-09 10:59:40;101;211109L101;TB70395;00:06:52;6,87;2;STARTUP;7;0;7\n",
      "2021-11-09 11:02:41;101;211109L101;TB70395;00:03:01;3,02;2;STARTUP;3;0;3\n",
      "2021-11-09 11:02:43;101;211109L101;TB70395;00:00:02;0,03;4;WORKING;0;0;0\n",
      "2021-11-09 11:13:19;101;211109L101;TB70395;00:10:36;10,6;4;WORKING;11;10;1\n",
      "2021-11-09 11:14:59;101;211109L101;TB70395;00:01:40;1,67;4;WORKING;2;2;0\n",
      "2021-11-09 11:17:09;101;211109L101;TB70395;00:02:10;2,17;4;WORKING;2;2;0\n",
      "2021-11-09 11:27:05;101;211109L101;TB70395;00:09:56;9,93;4;WORKING;10;10;0\n",
      "2021-11-09 11:40:47;101;211109L101;TB70395;00:13:42;13,7;4;WORKING;14;14;0\n",
      "2021-11-09 11:47:33;101;211109L101;TB70395;00:06:46;6,77;4;WORKING;7;7;0\n",
      "2021-11-09 11:53:26;101;211109L101;TB70395;00:05:53;5,88;4;WORKING;6;6;0\n",
      "2021-11-09 12:02:15;101;211109L101;TB70395;00:08:49;8,82;4;WORKING;9;9;0\n",
      "2021-11-09 12:11:03;101;211109L101;TB70395;00:08:48;8,8;4;WORKING;9;9;0\n",
      "2021-11-09 12:15:49;101;211109L101;TB70395;00:04:46;4,77;4;WORKING;5;5;0\n",
      "2021-11-09 12:29:42;101;211109L101;TB70395;00:13:53;13,88;4;WORKING;14;14;0\n",
      "2021-11-09 12:35:27;101;211109L101;TB70395;00:05:45;5,75;4;WORKING;6;6;0\n",
      "2021-11-09 12:44:20;101;211109L101;TB70395;00:08:53;8,88;4;WORKING;9;9;0\n",
      "2021-11-09 12:46:00;101;211109L101;TB70395;00:01:40;1,67;4;WORKING;2;2;0\n",
      "2021-11-09 12:49:06;101;211109L101;TB70395;00:03:06;3,1;4;WORKING;3;3;0\n",
      "2021-11-09 12:58:50;101;211109L101;TB70395;00:09:44;9,73;4;WORKING;10;10;0\n",
      "2021-11-09 13:09:58;101;211109L101;TB70395;00:11:08;11,13;4;WORKING;11;11;0\n",
      "2021-11-09 13:11:58;101;211109L101;TB70395;00:02:00;2;4;WORKING;2;2;0\n",
      "2021-11-09 13:19:21;101;211109L101;TB70395;00:07:23;7,38;4;WORKING;7;7;0\n",
      "2021-11-09 13:29:46;101;211109L101;TB70395;00:10:25;10,42;4;WORKING;10;10;0\n",
      "2021-11-09 13:32:06;101;211109L101;TB70395;00:02:20;2,33;4;WORKING;2;2;0\n",
      "2021-11-09 13:38:07;101;211109L101;TB70395;00:06:01;6,02;4;WORKING;6;6;0\n",
      "2021-11-09 13:50:44;101;211109L101;TB70395;00:12:37;12,62;4;WORKING;13;13;0\n",
      "2021-11-09 13:54:20;101;211109L101;TB70395;00:03:36;3,6;4;WORKING;4;4;0\n",
      "2021-11-09 14:01:34;101;211109L101;TB70395;00:07:14;7,23;4;WORKING;7;7;0\n",
      "2021-11-09 14:09:56;101;211109L101;TB70395;00:08:22;8,37;4;WORKING;8;8;0\n",
      "2021-11-09 14:17:03;101;211109L101;TB70395;00:07:07;7,12;4;WORKING;7;7;0\n",
      "2021-11-09 14:22:24;101;211109L101;TB70395;00:05:21;5,35;4;WORKING;5;5;0\n",
      "2021-11-09 14:35:57;101;211109L101;TB70395;00:13:33;13,55;4;WORKING;14;14;0\n",
      "2021-11-09 14:44:11;101;211109L101;TB70395;00:08:14;8,23;4;WORKING;8;8;0\n",
      "2021-11-09 14:54:14;101;211109L101;TB70395;00:10:03;10,05;4;WORKING;10;10;0\n",
      "2021-11-09 15:02:53;101;211109L101;TB70395;00:08:39;8,65;4;WORKING;9;9;0\n",
      "2021-11-09 15:13:06;101;211109L101;TB70395;00:10:13;10,22;4;WORKING;10;10;0\n",
      "2021-11-09 15:16:40;101;211109L101;TB70395;00:03:34;3,57;4;WORKING;4;4;0\n",
      "2021-11-09 15:26:22;101;211109L101;TB70395;00:09:42;9,7;4;WORKING;10;9;1\n",
      "2021-11-09 15:40:24;101;211109L101;TB70395;00:14:02;14,03;4;WORKING;14;14;0\n",
      "2021-11-09 15:46:26;101;211109L101;TB70395;00:06:02;6,03;4;WORKING;6;6;0\n",
      "2021-11-09 15:58:22;101;211109L101;TB70395;00:11:56;11,93;4;WORKING;12;12;0\n",
      "2021-11-09 16:05:20;101;211109L101;TB70395;00:06:58;6,97;4;WORKING;7;7;0\n",
      "2021-11-09 16:15:09;101;211109L101;TB70395;00:09:49;9,82;4;WORKING;10;10;0\n",
      "2021-11-09 16:23:25;101;211109L101;TB70395;00:08:16;8,27;4;WORKING;8;8;0\n",
      "2021-11-09 16:26:12;101;211109L101;TB70395;00:02:47;2,78;4;WORKING;3;3;0\n",
      "2021-11-09 16:40:29;101;211109L101;TB70395;00:14:17;14,28;4;WORKING;14;14;0\n",
      "2021-11-09 16:44:08;101;211109L101;TB70395;00:03:39;3,65;4;WORKING;4;4;0\n",
      "2021-11-09 16:44:18;101;211109L101;TB70395;00:00:10;0,17;4;WORKING;0;0;0\n",
      "2021-11-09 16:47:48;101;211109L101;TB70395;00:03:30;3,5;4;WORKING;4;4;0\n",
      "2021-11-09 17:00:22;101;211109L101;TB70395;00:12:34;12,57;4;WORKING;13;12;1\n",
      "2021-11-09 17:02:46;101;211109L101;TB70395;00:02:24;2,4;4;WORKING;2;2;0\n",
      "2021-11-09 17:14:48;101;211109L101;TB70395;00:12:02;12,03;4;WORKING;12;12;0\n",
      "2021-11-09 17:25:33;101;211109L101;TB70395;00:10:45;10,75;4;WORKING;11;10;1\n",
      "2021-11-09 17:38:09;101;211109L101;TB70395;00:12:36;12,6;4;WORKING;13;13;0\n",
      "2021-11-09 17:40:32;101;211109L101;TB70395;00:02:23;2,38;4;WORKING;2;2;0\n",
      "2021-11-09 17:41:41;101;211109L101;TB70395;00:01:09;1,15;4;WORKING;1;1;0\n",
      "2021-11-09 17:46:35;101;211109L101;TB70395;00:04:54;4,9;4;WORKING;5;5;0\n",
      "2021-11-09 17:54:29;101;211109L101;TB70395;00:07:54;7,9;4;WORKING;8;8;0\n",
      "2021-11-09 18:06:09;101;211109L101;TB70395;00:11:40;11,67;4;WORKING;12;12;0\n",
      "2021-11-09 18:07:00;101;211109L101;TB70395;00:00:51;0,85;4;WORKING;1;1;0\n",
      "2021-11-09 18:15:27;101;211109L101;TB70395;00:08:27;8,45;4;WORKING;8;8;0\n",
      "2021-11-09 18:25:47;101;211109L101;TB70395;00:10:20;10,33;4;WORKING;10;10;0\n",
      "2021-11-09 18:32:38;101;211109L101;TB70395;00:06:51;6,85;4;WORKING;7;7;0\n",
      "2021-11-09 18:46:54;101;211109L101;TB70395;00:14:16;14,27;4;WORKING;14;14;0\n",
      "2021-11-09 18:49:04;101;211109L101;TB70395;00:02:10;2,17;4;WORKING;2;2;0\n",
      "2021-11-09 18:53:48;101;211109L101;TB70395;00:04:44;4,73;4;WORKING;5;4;1\n",
      "2021-11-09 19:08:00;101;211109L101;TB70395;00:14:12;14,2;4;WORKING;14;14;0\n",
      "2021-11-09 19:10:38;101;211109L101;TB70395;00:02:38;2,63;4;WORKING;3;3;0\n",
      "2021-11-09 19:19:25;101;211109L101;TB70395;00:08:47;8,78;4;WORKING;9;9;0\n",
      "2021-11-09 19:22:12;101;211109L101;TB70395;00:02:47;2,78;4;WORKING;3;3;0\n",
      "2021-11-09 19:24:00;101;211109L101;TB70395;00:01:48;1,8;4;WORKING;2;2;0\n",
      "2021-11-09 19:34:51;101;211109L101;TB70395;00:10:51;10,85;4;WORKING;11;11;0\n",
      "2021-11-09 19:47:02;101;211109L101;TB70395;00:12:11;12,18;4;WORKING;12;12;0\n",
      "2021-11-09 19:56:46;101;211109L101;TB70395;00:09:44;9,73;4;WORKING;10;10;0\n",
      "2021-11-09 19:58:01;101;211109L101;TB70395;00:01:15;1,25;4;WORKING;1;1;0\n",
      "2021-11-09 20:02:39;101;211109L101;TB70395;00:04:38;4,63;4;WORKING;5;5;0\n",
      "2021-11-09 20:05:43;101;211109L101;TB70395;00:03:04;3,07;4;WORKING;3;3;0\n",
      "2021-11-09 20:18:48;101;211109L101;TB70395;00:13:05;13,08;4;WORKING;13;12;1\n",
      "2021-11-09 20:29:04;101;211109L101;TB70395;00:10:16;10,27;4;WORKING;10;10;0\n",
      "2021-11-09 20:40:44;101;211109L101;TB70395;00:11:40;11,67;4;WORKING;12;12;0\n",
      "2021-11-09 20:53:02;101;211109L101;TB70395;00:12:18;12,3;4;WORKING;12;12;0\n",
      "2021-11-09 20:59:13;101;211109L101;TB70395;00:06:11;6,18;4;WORKING;6;6;0\n",
      "2021-11-09 21:06:59;101;211109L101;TB70395;00:07:46;7,77;4;WORKING;8;8;0\n",
      "2021-11-09 21:11:24;101;211109L101;TB70395;00:04:25;4,42;4;WORKING;4;4;0\n",
      "2021-11-09 21:22:21;101;211109L101;TB70395;00:10:57;10,95;4;WORKING;11;11;0\n",
      "2021-11-09 21:24:00;101;211109L101;TB70395;00:01:39;1,65;4;WORKING;2;2;0\n",
      "2021-11-09 21:36:57;101;211109L101;TB70395;00:12:57;12,95;4;WORKING;13;13;0\n",
      "2021-11-09 21:50:04;101;211109L101;TB70395;00:13:07;13,12;4;WORKING;13;13;0\n",
      "2021-11-09 21:56:26;101;211109L101;TB70395;00:06:22;6,37;4;WORKING;6;6;0\n",
      "2021-11-09 22:07:06;101;211109L101;TB70395;00:10:40;10,67;4;WORKING;11;11;0\n",
      "2021-11-09 22:18:13;101;211109L101;TB70395;00:11:07;11,12;4;WORKING;11;11;0\n",
      "2021-11-09 22:21:57;101;211109L101;TB70395;00:03:44;3,73;4;WORKING;4;4;0\n",
      "2021-11-09 22:22:51;101;211109L101;TB70395;00:00:54;0,9;4;WORKING;1;1;0\n",
      "2021-11-09 22:32:03;101;211109L101;TB70395;00:09:12;9,2;4;WORKING;9;9;0\n",
      "2021-11-09 22:42:14;101;211109L101;TB70395;00:10:11;10,18;4;WORKING;10;10;0\n",
      "2021-11-09 22:55:06;101;211109L101;TB70395;00:12:52;12,87;4;WORKING;13;13;0\n",
      "2021-11-09 23:01:28;101;211109L101;TB70395;00:06:22;6,37;4;WORKING;6;6;0\n",
      "2021-11-09 23:09:56;101;211109L101;TB70395;00:08:28;8,47;4;WORKING;8;8;0\n",
      "2021-11-09 23:20:58;101;211109L101;TB70395;00:11:02;11,03;4;WORKING;11;11;0\n",
      "2021-11-09 23:32:34;101;211109L101;TB70395;00:11:36;11,6;4;WORKING;12;12;0\n",
      "2021-11-09 23:40:13;101;211109L101;TB70395;00:07:39;7,65;4;WORKING;8;8;0\n",
      "2021-11-09 23:40:17;101;211109L101;TB70395;00:00:04;0,07;4;WORKING;0;0;0\n",
      "2021-11-09 23:47:36;101;211109L101;TB70395;00:07:19;7,32;4;WORKING;7;7;0\n",
      "2021-11-09 23:52:31;101;211109L101;TB70395;00:04:55;4,92;4;WORKING;5;5;0\n",
      "2021-11-09 23:59:59;101;211109L101;TB70395;00:07:28;7,47;4;WORKING;7;7;0\n",
      ";;;;;;;;;;\n",
      "\n"
     ]
    }
   ],
   "source": [
    "# Verificação de coleta da Pasta “DATAPROD”, Arquivo “101-2021-11-09.csv” com ID “1EsftB3ZH96DaZmDM3iN5oZGaKSbiMyQT”\n",
    "\n",
    "# Definição do ID do arquivo e criação da chave de referência ao arquivo\n",
    "file_id = '1EsftB3ZH96DaZmDM3iN5oZGaKSbiMyQT'\n",
    "file = drive.CreateFile({'id': file_id})\n",
    "\n",
    "# Download do conteúdo do arquivo em formato String\n",
    "print(file.GetContentString())"
   ]
  },
  {
   "cell_type": "code",
   "execution_count": 13,
   "metadata": {},
   "outputs": [
    {
     "name": "stdout",
     "output_type": "stream",
     "text": [
      "DTAPONT;LOTE;PACKID;UNIDADES;KMPACK;KMUNMED\n",
      "2021-11-10 00:10:01;TB70395;018;51;295,596;5,796\n",
      "2021-11-10 01:05:25;TB70395;019;54;312,984;5,796\n",
      "2021-11-10 02:00:12;TB70395;020;54;312,984;5,796\n",
      "2021-11-10 02:51:17;TB70395;021;51;295,545;5,795\n",
      "2021-11-10 03:49:57;TB70395;022;51;295,545;5,795\n",
      "2021-11-10 04:44:33;TB70395;023;55;318,78;5,796\n",
      "2021-11-10 05:24:51;TB70395;024;50;289,8;5,796\n",
      "2021-11-10 06:07:00;TB70395;025;43;249,228;5,796\n",
      "2021-11-10 07:33:16;TB70401;001;55;318,78;5,796\n",
      "2021-11-10 08:21:15;TB70401;002;55;318,725;5,795\n",
      "2021-11-10 09:26:23;TB70401;003;51;295,596;5,796\n",
      "2021-11-10 10:09:59;TB70401;004;53;307,188;5,796\n",
      "2021-11-10 11:00:54;TB70401;005;52;301,34;5,795\n",
      "2021-11-10 11:54:58;TB70401;006;55;318,78;5,796\n",
      "2021-11-10 12:54:10;TB70401;007;52;301,392;5,796\n",
      "2021-11-10 13:54:12;TB70401;008;53;307,188;5,796\n",
      "2021-11-10 14:49:50;TB70401;009;55;318,78;5,796\n",
      "2021-11-10 15:47:04;TB70401;010;56;324,52;5,795\n",
      "2021-11-10 17:05:28;TB70401;011;50;289,75;5,795\n",
      "2021-11-10 18:11:49;TB70401;012;56;324,576;5,796\n",
      "2021-11-10 19:00:01;TB70401;013;55;318,78;5,796\n",
      "2021-11-10 19:59:18;TB70401;014;53;307,135;5,795\n",
      "2021-11-10 20:53:05;TB70401;015;51;295,596;5,796\n",
      "2021-11-10 21:34:29;TB70401;016;53;307,188;5,796\n",
      "2021-11-10 22:37:28;TB70401;017;56;324,576;5,796\n",
      "2021-11-10 23:39:53;TB70401;018;53;307,188;5,796\n",
      "\n"
     ]
    }
   ],
   "source": [
    "# Verificação de coleta da Pasta \"DATACONFIRM\", Arquivo “2021-11-10.csv” com ID “1k6USb3Ss5sBoYzy19rlNIHQPvaE6hp18”\n",
    "\n",
    "# Definição do ID do arquivo e criação da chave de referência ao arquivo\n",
    "file_id = '1k6USb3Ss5sBoYzy19rlNIHQPvaE6hp18'\n",
    "file = drive.CreateFile({'id': file_id})\n",
    "\n",
    "# Download do conteúdo do arquivo em formato String\n",
    "print(file.GetContentString())"
   ]
  }
 ],
 "metadata": {
  "interpreter": {
   "hash": "ce51edc64ac3a55d5005f8e1f79b021837e3747492fa12988471d8d227796609"
  },
  "kernelspec": {
   "display_name": "Python 3.9.6 64-bit ('venv': venv)",
   "language": "python",
   "name": "python3"
  },
  "language_info": {
   "codemirror_mode": {
    "name": "ipython",
    "version": 3
   },
   "file_extension": ".py",
   "mimetype": "text/x-python",
   "name": "python",
   "nbconvert_exporter": "python",
   "pygments_lexer": "ipython3",
   "version": "3.8.2"
  },
  "orig_nbformat": 4
 },
 "nbformat": 4,
 "nbformat_minor": 2
}
