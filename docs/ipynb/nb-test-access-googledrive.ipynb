{
 "cells": [
  {
   "cell_type": "markdown",
   "metadata": {},
   "source": [
    "# SPRINT - 1 \n",
    "\n",
    "## Item - Verificar forma e credenciais de acesso ao repositório de cada fonte de dados.\n",
    "<br>"
   ]
  },
  {
   "cell_type": "markdown",
   "metadata": {},
   "source": [
    "#### Objetivo: Verificar o procedimento de acesso aos dados no Google Drive via PyDrive2\n",
    "\n",
    "Autor.: Sérgio C. Medina"
   ]
  },
  {
   "cell_type": "code",
   "execution_count": 1,
   "metadata": {},
   "outputs": [],
   "source": [
    "# Declaração dos Pacotes, Libs ou Classes utilizadas no processo.\n",
    "import os\n",
    "from pydrive2.auth import GoogleAuth\n",
    "from pydrive2.drive import GoogleDrive"
   ]
  },
  {
   "cell_type": "markdown",
   "metadata": {},
   "source": [
    "#### Configuração da forma de Autenticação via `settings.yaml`. Seguir os procedimentos de preparação e configurações para autenticação documentados na página https://docs.iterative.ai/PyDrive2/quickstart/.\n",
    "<br>\n",
    "\n",
    "Modelo do arquivo abaixo:\n",
    "<br>\n",
    "\n",
    "```yaml\n",
    "client_config_backend: settings\n",
    "client_config:\n",
    "  client_id: [SEU CLIENT_ID]\n",
    "  client_secret: [SEU SECRET ID]\n",
    "\n",
    "save_credentials: True\n",
    "save_credentials_backend: file\n",
    "save_credentials_file: ../../secrets/credentials.json\n",
    "\n",
    "get_refresh_token: True\n",
    "\n",
    "oauth_scope:\n",
    "  - https://www.googleapis.com/auth/drive.appdata\n",
    "  - https://www.googleapis.com/auth/drive.file\n",
    "  - https://www.googleapis.com/auth/drive.install\n",
    "  - https://www.googleapis.com/auth/drive.metadata\n",
    "\n",
    "```"
   ]
  },
  {
   "cell_type": "code",
   "execution_count": 2,
   "metadata": {},
   "outputs": [],
   "source": [
    "# Configuração da Autenticação \n",
    "gauth = GoogleAuth(settings_file='../../secrets/settings.yaml')\n",
    "\n",
    "# Para o primeiro acesso tirar o comentário da linha abaixo para que seja gerado o arquivo de credenciais.\n",
    "# gauth.LocalWebserverAuth()\n",
    "\n",
    "# Confirme as credenciais que serão utilizadas para acesso ao Google Drive, após a criação do arquivo 'credentials.json'\n",
    "# o processo de autenticação será realizado totalmente em background.\n"
   ]
  },
  {
   "cell_type": "code",
   "execution_count": 3,
   "metadata": {},
   "outputs": [],
   "source": [
    "# Cria uma instancia do \"GoogleDrive\" autenticada para acesso ao repositório\n",
    "drive = GoogleDrive(gauth) "
   ]
  },
  {
   "cell_type": "code",
   "execution_count": 4,
   "metadata": {},
   "outputs": [
    {
     "name": "stdout",
     "output_type": "stream",
     "text": [
      "title: DATAOP, id: 1hLKK6t91XkfJ5aqJiLTDXiswklCLq0_x\n",
      "title: DATACONFIRM, id: 1onii4yNGnt6g4bCHZeQP-XYqaTRuglgL\n",
      "title: DATAPROD, id: 1wNqJFzNeU4RH1oCyfXXnseb1MX2sM3wO\n"
     ]
    }
   ],
   "source": [
    "# varredura da pasta raiz apenas informar 'root' na instrução abaixo\n",
    "file_list = drive.ListFile({'q': \"'root' in parents and trashed=false\"}).GetList()\n",
    "for file1 in file_list:\n",
    "  print('title: %s, id: %s' % (file1['title'], file1['id']))"
   ]
  },
  {
   "cell_type": "code",
   "execution_count": 5,
   "metadata": {},
   "outputs": [
    {
     "name": "stdout",
     "output_type": "stream",
     "text": [
      "title: 101-2021-11-13.csv, id: 1TdIcjUIleh8KInFZBt6sf2Gin-o2q6K4\n",
      "title: 101-2021-11-12.csv, id: 1CgoqWJHeCnz39-0Uo38Hk04GzNZDA9ey\n",
      "title: 101-2021-11-08.csv, id: 1Ygba2yNqwPxe5rD7GRoTQ29sITTtldRK\n",
      "title: 101-2021-11-11.csv, id: 1GEPiXvP5dP0mjSg3ze_SbpUs3UiCjFWo\n",
      "title: 101-2021-11-10.csv, id: 1b0gH8Iaagdk7A_N-8icz2Xon4bhQazuU\n",
      "title: 101-2021-11-09.csv, id: 1EsftB3ZH96DaZmDM3iN5oZGaKSbiMyQT\n"
     ]
    }
   ],
   "source": [
    "# varredura da pasta \"DATAPROD\" via ID retornado pelo Google\n",
    "file_list = drive.ListFile({'q': \"'1wNqJFzNeU4RH1oCyfXXnseb1MX2sM3wO' in parents and trashed=false\"}).GetList()\n",
    "for file1 in file_list:\n",
    "  print('title: %s, id: %s' % (file1['title'], file1['id']))"
   ]
  },
  {
   "cell_type": "code",
   "execution_count": 6,
   "metadata": {},
   "outputs": [
    {
     "name": "stdout",
     "output_type": "stream",
     "text": [
      "title: 2021-11-12.csv, id: 1jPEveR_YWK4SGgv00hsi2qIE7N9qsSP-\n",
      "title: 2021-11-11.csv, id: 1VAi1dnJKxoEqC9QXSjDF6d-fbAmFPdUr\n",
      "title: 2021-11-10.csv, id: 1z6vxk4CqymUw7BRsCb_WSrCZZpmensMb\n",
      "title: 2021-11-09.csv, id: 1Es24bhH4M1yt899xbosbrKYwG5nma6oo\n",
      "title: 2021-11-08.csv, id: 1qwfB1XzEBTwtM-IXjC_y76lnROMnJtGO\n"
     ]
    }
   ],
   "source": [
    "# varredura da pasta \"DATAOP\" via ID retornado pelo Google\n",
    "file_list = drive.ListFile({'q': \"'1hLKK6t91XkfJ5aqJiLTDXiswklCLq0_x' in parents and trashed=false\"}).GetList()\n",
    "for file1 in file_list:\n",
    "  print('title: %s, id: %s' % (file1['title'], file1['id']))"
   ]
  },
  {
   "cell_type": "code",
   "execution_count": 4,
   "metadata": {},
   "outputs": [
    {
     "name": "stdout",
     "output_type": "stream",
     "text": [
      "title: 2021-11-13.csv, id: 1OJ9gXK_B8iFrmsE9AueP9idfbf6CU564\n",
      "title: 2021-11-12.csv, id: 1V9hcmNnixlx0xv_qf-NjeRxDTu4aq4sH\n",
      "title: 2021-11-11.csv, id: 1GQqojswVY2quZOxox0-sY77PGAWR-x4s\n",
      "title: 2021-11-10.csv, id: 1k6USb3Ss5sBoYzy19rlNIHQPvaE6hp18\n",
      "title: 2021-11-09.csv, id: 1L4jpT0WrtlXwP4BG_3ElZQpZzin494Z8\n",
      "title: 2021-11-08.csv, id: 15sGDS8YZ0JjOx06mxKA7Jaf0lgTld8am\n"
     ]
    }
   ],
   "source": [
    "# varredura da pasta \"DATACONFIRM\" via ID retornado pelo Google\n",
    "file_list = drive.ListFile({'q': \"'1onii4yNGnt6g4bCHZeQP-XYqaTRuglgL' in parents and trashed=false\"}).GetList()\n",
    "for file1 in file_list:\n",
    "  print('title: %s, id: %s' % (file1['title'], file1['id']))"
   ]
  }
 ],
 "metadata": {
  "interpreter": {
   "hash": "ce51edc64ac3a55d5005f8e1f79b021837e3747492fa12988471d8d227796609"
  },
  "kernelspec": {
   "display_name": "Python 3.9.6 64-bit ('venv': venv)",
   "language": "python",
   "name": "python3"
  },
  "language_info": {
   "codemirror_mode": {
    "name": "ipython",
    "version": 3
   },
   "file_extension": ".py",
   "mimetype": "text/x-python",
   "name": "python",
   "nbconvert_exporter": "python",
   "pygments_lexer": "ipython3",
   "version": "3.9.6"
  },
  "orig_nbformat": 4
 },
 "nbformat": 4,
 "nbformat_minor": 2
}
