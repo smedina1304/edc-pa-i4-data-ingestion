{
 "cells": [
  {
   "cell_type": "markdown",
   "metadata": {},
   "source": [
    "# SPRINT - 1 \n",
    "\n",
    "## Item - Verificar forma e credenciais de acesso ao repositório de cada fonte de dados.\n",
    "<br>"
   ]
  },
  {
   "cell_type": "markdown",
   "metadata": {},
   "source": [
    "#### Objetivo: Verificar o procedimento de acesso aos dados no Google Drive via PyDrive2\n",
    "\n",
    "Autor.: Sérgio C. Medina"
   ]
  },
  {
   "cell_type": "code",
   "execution_count": 1,
   "metadata": {},
   "outputs": [],
   "source": [
    "# Declaração dos Pacotes, Libs ou Classes utilizadas no processo.\n",
    "import os\n",
    "from pydrive2.auth import GoogleAuth\n",
    "from pydrive2.drive import GoogleDrive"
   ]
  },
  {
   "cell_type": "markdown",
   "metadata": {},
   "source": [
    "#### Configuração da forma de Autenticação via `settings.yaml`. Seguir os procedimentos de preparação e configurações para autenticação documentados na página https://docs.iterative.ai/PyDrive2/quickstart/.\n",
    "<br>\n",
    "\n",
    "Modelo do arquivo abaixo:\n",
    "<br>\n",
    "\n",
    "```yaml\n",
    "client_config_backend: settings\n",
    "client_config:\n",
    "  client_id: [SEU CLIENT_ID]\n",
    "  client_secret: [SEU SECRET ID]\n",
    "\n",
    "save_credentials: True\n",
    "save_credentials_backend: file\n",
    "save_credentials_file: ../../secrets/credentials.json\n",
    "\n",
    "get_refresh_token: True\n",
    "\n",
    "oauth_scope:\n",
    "  - https://www.googleapis.com/auth/drive.appdata\n",
    "  - https://www.googleapis.com/auth/drive.file\n",
    "  - https://www.googleapis.com/auth/drive.install\n",
    "  - https://www.googleapis.com/auth/drive.metadata\n",
    "\n",
    "```"
   ]
  },
  {
   "cell_type": "code",
   "execution_count": 2,
   "metadata": {},
   "outputs": [],
   "source": [
    "# Configuração da Autenticação \n",
    "gauth = GoogleAuth(settings_file='../../secrets/settings.yaml')\n",
    "\n",
    "# Para o primeiro acesso tirar o comentário da linha abaixo para que seja gerado o arquivo de credenciais.\n",
    "# Confirme as credenciais que serão utilizadas para acesso ao Google Drive, após a criação do arquivo 'credentials.json'\n",
    "# o processo de autenticação será realizado totalmente em background.\n",
    "# gauth.LocalWebserverAuth()"
   ]
  },
  {
   "cell_type": "code",
   "execution_count": 4,
   "metadata": {},
   "outputs": [],
   "source": [
    "drive = GoogleDrive(gauth) # Cria uma instancia do \"GoogleDrive\" autenticada para acesso ao repositório"
   ]
  },
  {
   "cell_type": "code",
   "execution_count": 3,
   "metadata": {},
   "outputs": [
    {
     "name": "stdout",
     "output_type": "stream",
     "text": [
      "title: DATAOP, id: 1hLKK6t91XkfJ5aqJiLTDXiswklCLq0_x\n",
      "title: DATACONFIRM, id: 1onii4yNGnt6g4bCHZeQP-XYqaTRuglgL\n",
      "title: DATAPROD, id: 1wNqJFzNeU4RH1oCyfXXnseb1MX2sM3wO\n"
     ]
    }
   ],
   "source": [
    "# varredura da pasta raiz apenas informar 'root' na instrução abaixo\n",
    "file_list = drive.ListFile({'q': \"'root' in parents and trashed=false\"}).GetList()\n",
    "for file1 in file_list:\n",
    "  print('title: %s, id: %s' % (file1['title'], file1['id']))"
   ]
  },
  {
   "cell_type": "code",
   "execution_count": 5,
   "metadata": {},
   "outputs": [
    {
     "name": "stdout",
     "output_type": "stream",
     "text": [
      "title: 101-2021-11-13.csv, id: 1GfaE-oiHIPpc5dIrqPVtJ7yQ67sGMp4X\n",
      "title: 101-2021-11-12.csv, id: 17FfjGD3iVzWQhSZM285U0WCro_ub5i4Q\n",
      "title: 101-2021-11-11.csv, id: 1FeBw3g1h7onUVh0k50IQ2uRxmy2jHi2t\n",
      "title: 101-2021-11-10.csv, id: 1JgEyG6SddPxx0r0llJkKB3PTZPdK_-2-\n",
      "title: 101-2021-11-09.csv, id: 1HrpwqniLITCDEBlUMf2-Wyhs1vAjMIhv\n",
      "title: 101-2021-11-08.csv, id: 1Cs6SgVBGFiIZJmwmTrc1BJOogiP8bPZo\n"
     ]
    }
   ],
   "source": [
    "# varredura da pasta via ID definida pelo Google\n",
    "file_list = drive.ListFile({'q': \"'1wNqJFzNeU4RH1oCyfXXnseb1MX2sM3wO' in parents and trashed=false\"}).GetList()\n",
    "for file1 in file_list:\n",
    "  print('title: %s, id: %s' % (file1['title'], file1['id']))"
   ]
  }
 ],
 "metadata": {
  "interpreter": {
   "hash": "ce51edc64ac3a55d5005f8e1f79b021837e3747492fa12988471d8d227796609"
  },
  "kernelspec": {
   "display_name": "Python 3.9.6 64-bit ('venv': venv)",
   "language": "python",
   "name": "python3"
  },
  "language_info": {
   "codemirror_mode": {
    "name": "ipython",
    "version": 3
   },
   "file_extension": ".py",
   "mimetype": "text/x-python",
   "name": "python",
   "nbconvert_exporter": "python",
   "pygments_lexer": "ipython3",
   "version": "3.9.6"
  },
  "orig_nbformat": 4
 },
 "nbformat": 4,
 "nbformat_minor": 2
}
