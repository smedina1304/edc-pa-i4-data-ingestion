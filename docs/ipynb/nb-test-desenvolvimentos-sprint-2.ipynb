{
 "cells": [
  {
   "cell_type": "markdown",
   "metadata": {},
   "source": [
    "# SPRINT - 2\n",
    "\n",
    "## Item - Levantamento dos cálculos dos indicadores.\n",
    "\n",
    "## Item - Levantamento do procedimento de consolidação dos dados de produção e apontamentos.\n",
    "\n",
    "## Item - Desenvolvimento do processamento de Limpeza, Formatação e Classificação dos dados, e gravação na \"Refined Data\".\n",
    "\n",
    "<br>\n",
    "<br>\n",
    "\n",
    "Autor.: Sérgio C. Medina"
   ]
  },
  {
   "cell_type": "markdown",
   "metadata": {},
   "source": [
    "#### Declaração dos Pacotes, Libs ou Classes utilizadas no processo."
   ]
  },
  {
   "cell_type": "code",
   "execution_count": 1,
   "metadata": {},
   "outputs": [],
   "source": [
    "# Declaração dos Pacotes, Libs ou Classes utilizadas no processo.\n",
    "import os\n",
    "import io\n",
    "import pandas as pd\n",
    "from google.cloud import storage\n",
    "from datetime import datetime, timedelta\n",
    "\n",
    "\n",
    "# configurando variavel de ambiente com o arquivo de credenciais para conexão GCP\n",
    "os.environ['GOOGLE_APPLICATION_CREDENTIALS'] = \"..\\..\\secrets\\edc-igti-smedina-4920e12ac565.json\"\n",
    "\n",
    "# Conexão com o Cloud Storage e criação do objeto bucket referente a área de dados\n",
    "storage_client = storage.Client()\n",
    "bucket = storage_client.get_bucket(\"edc-pa-i4-data\")"
   ]
  },
  {
   "cell_type": "code",
   "execution_count": 2,
   "metadata": {},
   "outputs": [],
   "source": [
    "# Função para leitura do arquivo CSV no GCS convertando para Pandas Dataframe\n",
    "def gcp_csv_to_df(folder, dtexec, lineprod=None, sep=\";\"):\n",
    "\n",
    "    # formata o padrão do nome do arquivo\n",
    "    file_name = None\n",
    "    if (dtexec is not None and lineprod is None):\n",
    "        file_name = f\"{dtexec}.csv\"\n",
    "    elif (dtexec is not None and lineprod is not None):\n",
    "        file_name = f\"{lineprod}-{dtexec}.csv\"\n",
    "    else:\n",
    "        raise Exception(\"Invalid parameters.\")\n",
    "\n",
    "    df = None\n",
    "\n",
    "    try:\n",
    "        # define o objeto blob com o path para o arquivo no GCS\n",
    "        blob = bucket.blob(f\"raw-data-zone/{folder}/{file_name}\")\n",
    "\n",
    "        # Faz o download no formato em bytes e posiciona no index 0\n",
    "        byte_stream = io.BytesIO()\n",
    "        blob.download_to_file(byte_stream)\n",
    "        byte_stream.seek(0)\n",
    "\n",
    "        # Converte para o Dataframe em Pandas\n",
    "        df = pd.read_csv(byte_stream, sep=sep)\n",
    "    except Exception as e:\n",
    "        print(\"Exception:\", e)\n",
    "\n",
    "    return df\n",
    "\n",
    "\n",
    "# Função para realizar o delete do blob no GCS\n",
    "def delete_blob(path_name):\n",
    "    if path_name is not None:\n",
    "        print('SEARCHING TO DELETE:', path_name)\n",
    "        blobs = bucket.list_blobs(prefix=path_name)\n",
    "        for blob in blobs:\n",
    "            if blob.exists():\n",
    "                print('DELETE:',blob.path)\n",
    "                blob.delete()\n",
    "    else:\n",
    "        print('ERROR: path_name is None!')\n",
    "\n"
   ]
  },
  {
   "cell_type": "code",
   "execution_count": 3,
   "metadata": {},
   "outputs": [],
   "source": [
    "# Função para calcular data turno com base em uma data e hora\n",
    "def calc_dtprod(dt):\n",
    "\n",
    "    # Se dt for string\n",
    "    if isinstance(dt,str):\n",
    "        dt = datetime.strptime(dt, \"%Y-%m-%d %H:%M:%S\")\n",
    "\n",
    "    # separa a data e hora\n",
    "    my_date = dt.date()\n",
    "    my_hora = dt.time()\n",
    "\n",
    "    # Formato hora \n",
    "    FMT = '%H:%M:%S'\n",
    "\n",
    "    # Verifica periodo entre 06:00:00 e 23:59:59\n",
    "    start_time = datetime.strptime('06:00:00', '%H:%M:%S').time()\n",
    "    end_time = datetime.strptime('23:59:59', '%H:%M:%S').time()\n",
    "\n",
    "    if (my_hora >= start_time and my_hora <= end_time):\n",
    "        return my_date\n",
    "    elif (my_hora < start_time):\n",
    "        prevDay = my_date + timedelta(days=-1)\n",
    "        return prevDay\n",
    "    else:\n",
    "        return None\n",
    "\n",
    "\n",
    "# Compara se a data inicio e final informada estão na mesma data de produção\n",
    "# se sim retorna a data de produção, senão retorna None\n",
    "def compate_dtprod(di, df):\n",
    "    di = calc_dtprod(di)\n",
    "    df = calc_dtprod(df)\n",
    "\n",
    "    if (di == df):\n",
    "        return di\n",
    "    else:\n",
    "        return None\n"
   ]
  },
  {
   "cell_type": "markdown",
   "metadata": {},
   "source": [
    "#### Dados na \"raw-data-zone\" pasta \"DATAOP\""
   ]
  },
  {
   "cell_type": "code",
   "execution_count": 12,
   "metadata": {},
   "outputs": [],
   "source": [
    "dtexec = \"2021-11-10\"\n",
    "\n",
    "df_dataop = gcp_csv_to_df(folder=\"dataop\", dtexec=dtexec, sep=\";\")\n",
    "\n",
    "if df_dataop is not None:\n",
    "    # Limpa os dados nulos\n",
    "    df_dataop.dropna(inplace=True)\n",
    "\n",
    "    # Define os tipos de cada coluna\n",
    "    df_dataop['OP'] = df_dataop['OP'].astype(str)\n",
    "    df_dataop['CODMAT'] = df_dataop['CODMAT'].astype(str)\n",
    "    df_dataop['LOTEFAB'] = df_dataop['LOTEFAB'].astype(str)\n",
    "    df_dataop['DTINI'] = pd.to_datetime(df_dataop['DTINI'])\n",
    "    df_dataop['DTFIM'] = pd.to_datetime(df_dataop['DTFIM'])\n",
    "    df_dataop['QTDPLAN'] = df_dataop['QTDPLAN'].astype(int)\n",
    "\n",
    "    # Definindo a Data de Produção DTPROD\n",
    "    df_dataop.insert(0, 'DTPROD', None)\n",
    "    df_dataop['DTPROD'] = df_dataop.apply(lambda row:compate_dtprod(row['DTINI'], row['DTFIM']),axis=1)\n",
    "    \n",
    "      "
   ]
  },
  {
   "cell_type": "code",
   "execution_count": null,
   "metadata": {},
   "outputs": [],
   "source": [
    "df_dataop.dtypes"
   ]
  },
  {
   "cell_type": "code",
   "execution_count": 10,
   "metadata": {},
   "outputs": [
    {
     "data": {
      "text/html": [
       "<div>\n",
       "<style scoped>\n",
       "    .dataframe tbody tr th:only-of-type {\n",
       "        vertical-align: middle;\n",
       "    }\n",
       "\n",
       "    .dataframe tbody tr th {\n",
       "        vertical-align: top;\n",
       "    }\n",
       "\n",
       "    .dataframe thead th {\n",
       "        text-align: right;\n",
       "    }\n",
       "</style>\n",
       "<table border=\"1\" class=\"dataframe\">\n",
       "  <thead>\n",
       "    <tr style=\"text-align: right;\">\n",
       "      <th></th>\n",
       "      <th>DTPROD</th>\n",
       "      <th>OP</th>\n",
       "      <th>DTINI</th>\n",
       "      <th>DTFIM</th>\n",
       "      <th>CODMAT</th>\n",
       "      <th>LOTEFAB</th>\n",
       "      <th>QTDPLAN</th>\n",
       "    </tr>\n",
       "  </thead>\n",
       "  <tbody>\n",
       "    <tr>\n",
       "      <th>0</th>\n",
       "      <td>2021-11-09</td>\n",
       "      <td>211109L101</td>\n",
       "      <td>2021-11-09 06:00:00</td>\n",
       "      <td>2021-11-10 05:59:59</td>\n",
       "      <td>TB70PVC</td>\n",
       "      <td>TB70395</td>\n",
       "      <td>1320</td>\n",
       "    </tr>\n",
       "  </tbody>\n",
       "</table>\n",
       "</div>"
      ],
      "text/plain": [
       "       DTPROD          OP               DTINI               DTFIM   CODMAT  \\\n",
       "0  2021-11-09  211109L101 2021-11-09 06:00:00 2021-11-10 05:59:59  TB70PVC   \n",
       "\n",
       "   LOTEFAB  QTDPLAN  \n",
       "0  TB70395     1320  "
      ]
     },
     "execution_count": 10,
     "metadata": {},
     "output_type": "execute_result"
    }
   ],
   "source": [
    "df_dataop\n",
    "\n",
    "# Somarizando os dados Nuloes\n",
    "#df_dataop.isnull().sum()\n",
    "\n",
    "# Limpando os dados Nulos\n",
    "#df_dataop.dropna(inplace=True)"
   ]
  },
  {
   "cell_type": "code",
   "execution_count": 13,
   "metadata": {},
   "outputs": [
    {
     "name": "stdout",
     "output_type": "stream",
     "text": [
      "SEARCHING TO DELETE: processing-zone/dataop/DTPROD=2021-11-10\n"
     ]
    }
   ],
   "source": [
    "# save parquet - gcp\n",
    "# https://gist.github.com/lpillmann/fa1874c7deb8434ca8cba8e5a045dde2\n",
    "# https://blog.datasyndrome.com/python-and-parquet-performance-e71da65269ce\n",
    "\n",
    "import gcsfs\n",
    "import pyarrow\n",
    "import pyarrow.parquet as pq\n",
    "\n",
    "folder=\"dataop\"\n",
    "gs_path=f\"edc-pa-i4-data/processing-zone/{folder}\"\n",
    "gs_blobs=f\"processing-zone/{folder}/DTPROD={dtexec}\"\n",
    "\n",
    "delete_blob(path_name=gs_blobs)\n",
    "\n",
    "gs = gcsfs.GCSFileSystem()\n",
    "\n",
    "table = pyarrow.Table.from_pandas(df_dataop)\n",
    "pq.write_to_dataset(\n",
    "    table,\n",
    "    gs_path,\n",
    "    partition_cols=['DTPROD'],\n",
    "    filesystem=gs,\n",
    "    compression='snappy',\n",
    "    flavor='spark'\n",
    ")\n"
   ]
  },
  {
   "cell_type": "code",
   "execution_count": 18,
   "metadata": {},
   "outputs": [],
   "source": [
    "dataset = pq.ParquetDataset(\n",
    "    f\"edc-pa-i4-data/processing-zone/{folder}\", \n",
    "    filesystem=gs\n",
    "#    filters=[('DTPROD', '=', '2021-11-08')]\n",
    "#    use_threads=True\n",
    ")\n",
    "df = dataset.read_pandas().to_pandas()"
   ]
  },
  {
   "cell_type": "code",
   "execution_count": 19,
   "metadata": {},
   "outputs": [
    {
     "data": {
      "text/html": [
       "<div>\n",
       "<style scoped>\n",
       "    .dataframe tbody tr th:only-of-type {\n",
       "        vertical-align: middle;\n",
       "    }\n",
       "\n",
       "    .dataframe tbody tr th {\n",
       "        vertical-align: top;\n",
       "    }\n",
       "\n",
       "    .dataframe thead th {\n",
       "        text-align: right;\n",
       "    }\n",
       "</style>\n",
       "<table border=\"1\" class=\"dataframe\">\n",
       "  <thead>\n",
       "    <tr style=\"text-align: right;\">\n",
       "      <th></th>\n",
       "      <th>OP</th>\n",
       "      <th>DTINI</th>\n",
       "      <th>DTFIM</th>\n",
       "      <th>CODMAT</th>\n",
       "      <th>LOTEFAB</th>\n",
       "      <th>QTDPLAN</th>\n",
       "      <th>DTPROD</th>\n",
       "    </tr>\n",
       "  </thead>\n",
       "  <tbody>\n",
       "    <tr>\n",
       "      <th>0</th>\n",
       "      <td>211108L101</td>\n",
       "      <td>2021-11-08 06:00:00</td>\n",
       "      <td>2021-11-09 05:59:59</td>\n",
       "      <td>TB70PVC</td>\n",
       "      <td>TB70394</td>\n",
       "      <td>1320</td>\n",
       "      <td>2021-11-08</td>\n",
       "    </tr>\n",
       "    <tr>\n",
       "      <th>0</th>\n",
       "      <td>211109L101</td>\n",
       "      <td>2021-11-09 06:00:00</td>\n",
       "      <td>2021-11-10 05:59:59</td>\n",
       "      <td>TB70PVC</td>\n",
       "      <td>TB70395</td>\n",
       "      <td>1320</td>\n",
       "      <td>2021-11-09</td>\n",
       "    </tr>\n",
       "    <tr>\n",
       "      <th>0</th>\n",
       "      <td>211110L101</td>\n",
       "      <td>2021-11-10 06:00:00</td>\n",
       "      <td>2021-11-11 05:59:59</td>\n",
       "      <td>TB70PVC</td>\n",
       "      <td>TB70401</td>\n",
       "      <td>1320</td>\n",
       "      <td>2021-11-10</td>\n",
       "    </tr>\n",
       "  </tbody>\n",
       "</table>\n",
       "</div>"
      ],
      "text/plain": [
       "           OP               DTINI               DTFIM   CODMAT  LOTEFAB  \\\n",
       "0  211108L101 2021-11-08 06:00:00 2021-11-09 05:59:59  TB70PVC  TB70394   \n",
       "0  211109L101 2021-11-09 06:00:00 2021-11-10 05:59:59  TB70PVC  TB70395   \n",
       "0  211110L101 2021-11-10 06:00:00 2021-11-11 05:59:59  TB70PVC  TB70401   \n",
       "\n",
       "   QTDPLAN      DTPROD  \n",
       "0     1320  2021-11-08  \n",
       "0     1320  2021-11-09  \n",
       "0     1320  2021-11-10  "
      ]
     },
     "execution_count": 19,
     "metadata": {},
     "output_type": "execute_result"
    }
   ],
   "source": [
    "df"
   ]
  },
  {
   "cell_type": "markdown",
   "metadata": {},
   "source": [
    "#### Dados na \"raw-data-zone\" pasta \"DATAPROD\""
   ]
  },
  {
   "cell_type": "code",
   "execution_count": null,
   "metadata": {},
   "outputs": [],
   "source": [
    "dtexec = \"2021-11-08\"\n",
    "lineid = \"101\"\n",
    "\n",
    "nextDay = datetime.strptime(dtexec, \"%Y-%m-%d\") + timedelta(days=1)\n",
    "print(\"dtexec:\", dtexec, \" next:\", nextDay)\n",
    "\n",
    "df_dataprod = gcp_csv_to_df(folder=\"dataprod\", dtexec=dtexec, lineprod=lineid, sep=\";\")\n",
    "\n",
    "if df_dataprod is not None:\n",
    "    df = gcp_csv_to_df(folder=\"dataprod\", dtexec=nextDay.strftime(\"%Y-%m-%d\"), lineprod=lineid, sep=\";\")\n",
    "    df_dataprod = df_dataprod.append(df, sort=False, ignore_index=True)"
   ]
  },
  {
   "cell_type": "code",
   "execution_count": null,
   "metadata": {},
   "outputs": [],
   "source": [
    "df_dataprod"
   ]
  }
 ],
 "metadata": {
  "interpreter": {
   "hash": "ce51edc64ac3a55d5005f8e1f79b021837e3747492fa12988471d8d227796609"
  },
  "kernelspec": {
   "display_name": "Python 3.9.6 64-bit ('venv': venv)",
   "language": "python",
   "name": "python3"
  },
  "language_info": {
   "codemirror_mode": {
    "name": "ipython",
    "version": 3
   },
   "file_extension": ".py",
   "mimetype": "text/x-python",
   "name": "python",
   "nbconvert_exporter": "python",
   "pygments_lexer": "ipython3",
   "version": "3.9.6"
  },
  "orig_nbformat": 4
 },
 "nbformat": 4,
 "nbformat_minor": 2
}
